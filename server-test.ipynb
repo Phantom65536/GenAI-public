{
 "cells": [
  {
   "cell_type": "code",
   "execution_count": 57,
   "metadata": {},
   "outputs": [],
   "source": [
    "import requests\n",
    "from IPython.display import display, Markdown"
   ]
  },
  {
   "cell_type": "code",
   "execution_count": 58,
   "metadata": {},
   "outputs": [],
   "source": [
    "url = \"http://127.0.0.1:5000\""
   ]
  },
  {
   "cell_type": "code",
   "execution_count": 59,
   "metadata": {},
   "outputs": [
    {
     "data": {
      "text/markdown": [
       "**RAFT**\n",
       "\n",
       "* **Role:** Journalist in a newspaper company\n",
       "* **Audience:** General public\n",
       "* **Format:** Newspaper article\n",
       "* **Topic:** Global warming and its impact on the planet\n",
       "\n",
       "**TIDE**\n",
       "\n",
       "* **Topic:** Global warming\n",
       "* **Important Details:**\n",
       "    * Recycling\n",
       "    * Impact of fossil fuels\n",
       "    * Impact of consumerism\n",
       "* **Detailed Examination:**\n",
       "    * Explain the causes and effects of global warming.\n",
       "    * Discuss the role of citizens in reducing the impact of global warming.\n",
       "    * Provide specific examples of actions that citizens can take.\n",
       "* **Ending:**\n",
       "    * Summarize the main points of the article.\n",
       "    * Call to action for citizens to take steps to reduce the impact of global warming.\n",
       "\n",
       "**How to Use Both RAFT and TIDE**\n",
       "\n",
       "RAFT can be used to help students understand the purpose and audience of their writing. TIDE can be used to help students organize their thoughts and ideas. By using both RAFT and TIDE, students can create well-written and informative articles on the topic of global warming.\n",
       "\n",
       "**Example Article**\n",
       "\n",
       "**Headline:** Global Warming: What Can We Do?\n",
       "\n",
       "**Byline:** [Student's Name]\n",
       "\n",
       "**Body:**\n",
       "\n",
       "Global warming is a serious threat to our planet. The burning of fossil fuels, such as oil, gas, and coal, releases greenhouse gases into the atmosphere. These gases trap heat and cause the planet to warm. The effects of global warming are already being felt around the world, in the form of rising sea levels, more extreme weather events, and changes in plant and animal life.\n",
       "\n",
       "As citizens, we can all play a role in reducing the impact of global warming. One way to do this is to recycle. Recycling helps to reduce the amount of waste that goes to landfills, which can help to reduce greenhouse gas emissions. Another way to reduce our impact on the environment is to reduce our consumption of fossil fuels. We can do this by driving less, using public transportation, and investing in renewable energy sources, such as solar and wind power.\n",
       "\n",
       "Finally, we can all make a difference by reducing our consumption of goods and services. When we buy less, we create less demand for products that are made using fossil fuels. We can also choose to buy products that are made from recycled materials or that are produced in a sustainable way.\n",
       "\n",
       "By taking these steps, we can all help to reduce the impact of global warming and protect our planet for future generations."
      ],
      "text/plain": [
       "<IPython.core.display.Markdown object>"
      ]
     },
     "metadata": {},
     "output_type": "display_data"
    }
   ],
   "source": [
    "data = {\n",
    "    \"student_profile\": \"grade 8 students with learning disabilities\",\n",
    "    \"topic\": \"\"\"\n",
    "    Global warming has become a serious threat to our planet. As a journalist in a newspaper company, explain what we can do as citizens to reduce the effect of global warming. You may want to consider factors, such as \n",
    "    - recycling\n",
    "    - the impact of fossil fuels (oil, gas and coal)\n",
    "    - the impact of consumerism (buying things)\n",
    "\"\"\"\n",
    "}\n",
    "response = requests.post(url+\"/suggestion\", data=data)\n",
    "display(Markdown(response.json()['suggestion']))"
   ]
  },
  {
   "cell_type": "code",
   "execution_count": 60,
   "metadata": {},
   "outputs": [
    {
     "data": {
      "text/markdown": [
       "### D"
      ],
      "text/plain": [
       "<IPython.core.display.Markdown object>"
      ]
     },
     "metadata": {},
     "output_type": "display_data"
    },
    {
     "data": {
      "text/markdown": [
       "**Detailed Examination:** Discuss the specific actions citizens can take to reduce the effects of global warming, such as recycling, reducing fossil fuel consumption, and curbing consumerism."
      ],
      "text/plain": [
       "<IPython.core.display.Markdown object>"
      ]
     },
     "metadata": {},
     "output_type": "display_data"
    },
    {
     "data": {
      "text/markdown": [
       "### E"
      ],
      "text/plain": [
       "<IPython.core.display.Markdown object>"
      ]
     },
     "metadata": {},
     "output_type": "display_data"
    },
    {
     "data": {
      "text/markdown": [
       "**Ending:** Summarize the key points and reiterate the importance of individual actions in mitigating global warming."
      ],
      "text/plain": [
       "<IPython.core.display.Markdown object>"
      ]
     },
     "metadata": {},
     "output_type": "display_data"
    },
    {
     "data": {
      "text/markdown": [
       "### I"
      ],
      "text/plain": [
       "<IPython.core.display.Markdown object>"
      ]
     },
     "metadata": {},
     "output_type": "display_data"
    },
    {
     "data": {
      "text/markdown": [
       "**Important Details:** List the key factors contributing to global warming, such as recycling, fossil fuel consumption, and consumerism."
      ],
      "text/plain": [
       "<IPython.core.display.Markdown object>"
      ]
     },
     "metadata": {},
     "output_type": "display_data"
    },
    {
     "data": {
      "text/markdown": [
       "### T"
      ],
      "text/plain": [
       "<IPython.core.display.Markdown object>"
      ]
     },
     "metadata": {},
     "output_type": "display_data"
    },
    {
     "data": {
      "text/markdown": [
       "**Topic introduction with Thesis:** Global warming poses a grave threat to our planet, and as responsible citizens, we must take collective action to mitigate its effects."
      ],
      "text/plain": [
       "<IPython.core.display.Markdown object>"
      ]
     },
     "metadata": {},
     "output_type": "display_data"
    }
   ],
   "source": [
    "data = {\n",
    "    \"topic\": \n",
    "    \"\"\"\n",
    "    Global warming has become a serious threat to our planet. As a journalist in a newspaper company, explain what we can do as citizens to reduce the effect of global warming. You may want to consider factors, such as \n",
    "    - recycling\n",
    "    - the impact of fossil fuels (oil, gas and coal)\n",
    "    - the impact of consumerism (buying things)\n",
    "    \"\"\"\n",
    "}\n",
    "response = requests.post(url+\"/table\", data=data)\n",
    "for k,v in response.json().items():\n",
    "    display(Markdown(f\"### {k}\"))\n",
    "    display(Markdown(v))"
   ]
  },
  {
   "cell_type": "code",
   "execution_count": 61,
   "metadata": {},
   "outputs": [
    {
     "data": {
      "text/markdown": [
       "### RAFT"
      ],
      "text/plain": [
       "<IPython.core.display.Markdown object>"
      ]
     },
     "metadata": {},
     "output_type": "display_data"
    },
    {
     "data": {
      "text/markdown": [
       "**Role:**\n",
       "* What role will you be taking on in this writing task?\n",
       "\n",
       "**Audience:**\n",
       "* Who are you writing this piece for?\n",
       "\n",
       "**Format:**\n",
       "* What type of writing will you be using to convey your message?\n",
       "\n",
       "**Topic:**\n",
       "* What is the main topic you will be discussing in your writing?"
      ],
      "text/plain": [
       "<IPython.core.display.Markdown object>"
      ]
     },
     "metadata": {},
     "output_type": "display_data"
    }
   ],
   "source": [
    "data = {\n",
    "    \"topic\": \n",
    "    \"\"\"\n",
    "    Global warming has become a serious threat to our planet. As a journalist in a newspaper company, explain what we can do as citizens to reduce the effect of global warming. You may want to consider factors, such as \n",
    "    - recycling\n",
    "    - the impact of fossil fuels (oil, gas and coal)\n",
    "    - the impact of consumerism (buying things)\n",
    "    \"\"\"\n",
    "}\n",
    "response = requests.post(url+\"/table_raft\", data=data)\n",
    "for k,v in response.json().items():\n",
    "    display(Markdown(f\"### {k}\"))\n",
    "    display(Markdown(v))"
   ]
  },
  {
   "cell_type": "code",
   "execution_count": 62,
   "metadata": {},
   "outputs": [
    {
     "data": {
      "text/markdown": [
       "### 0"
      ],
      "text/plain": [
       "<IPython.core.display.Markdown object>"
      ]
     },
     "metadata": {},
     "output_type": "display_data"
    },
    {
     "data": {
      "text/markdown": [
       "**Strengths:**\n",
       "\n",
       "- The response is concise and clear.\n",
       "- The student has correctly identified the topic of the assignment.\n",
       "- The student has included a thesis statement that expresses their opinion on the topic.\n",
       "\n",
       "**Areas for Improvement:**\n",
       "\n",
       "- The response is a bit too short. The student could provide more details to support their thesis statement.\n",
       "- The student could use more specific language. For example, instead of saying \"We need to take action now,\" the student could say \"We need to reduce our carbon emissions by recycling, using less fossil fuels, and consuming less.\"\n",
       "- The student could use more formal language. For example, instead of saying \"Global warming may cause human extinction,\" the student could say \"Global warming poses a serious threat to human civilization.\""
      ],
      "text/plain": [
       "<IPython.core.display.Markdown object>"
      ]
     },
     "metadata": {},
     "output_type": "display_data"
    },
    {
     "data": {
      "text/markdown": [
       "### 1"
      ],
      "text/plain": [
       "<IPython.core.display.Markdown object>"
      ]
     },
     "metadata": {},
     "output_type": "display_data"
    },
    {
     "data": {
      "text/markdown": [
       "**Strengths:**\n",
       "\n",
       "- You have identified some important details related to global warming, such as deforestation, garbage, and fossil fuels.\n",
       "- You have provided some good suggestions for how we can reduce the effects of global warming, such as planting more trees, recycling more, and using fuel-efficient vehicles.\n",
       "\n",
       "**Areas for Improvement:**\n",
       "\n",
       "- Your response could be more organized. You could use headings or bullet points to make it easier to read.\n",
       "- You could provide more specific examples of how we can reduce the effects of global warming. For example, you could mention specific ways to reduce our consumption of fossil fuels, such as using public transportation or walking instead of driving.\n",
       "- You could also provide more information about the impact of global warming on our planet. This would help your readers understand why it is important to take action to reduce the effects of global warming."
      ],
      "text/plain": [
       "<IPython.core.display.Markdown object>"
      ]
     },
     "metadata": {},
     "output_type": "display_data"
    },
    {
     "data": {
      "text/markdown": [
       "### 2"
      ],
      "text/plain": [
       "<IPython.core.display.Markdown object>"
      ]
     },
     "metadata": {},
     "output_type": "display_data"
    },
    {
     "data": {
      "text/markdown": [
       "**Strengths:**\n",
       "\n",
       "- The response is concise and clear.\n",
       "- The student has identified the need to take action to save the Earth.\n",
       "\n",
       "**Areas for Improvement:**\n",
       "\n",
       "- The response is too general. It does not provide any specific suggestions for what citizens can do to reduce the effects of global warming.\n",
       "- The student could provide more specific examples of how to use things the proper way to save the Earth. For example, they could mention recycling, reducing consumption, and using renewable energy sources.\n",
       "- The student could also provide more information about the impact of fossil fuels and consumerism on global warming. This would help readers understand the importance of taking action to reduce these impacts."
      ],
      "text/plain": [
       "<IPython.core.display.Markdown object>"
      ]
     },
     "metadata": {},
     "output_type": "display_data"
    }
   ],
   "source": [
    "data = {\n",
    "    0: \"\"\"Global warming may cause human extinction. We need to take action now.\"\"\",\n",
    "    1: '''\n",
    "Important details:\n",
    "- Deforestation: People cut down trees which clean air.\n",
    "- Garbages: People throw away too many packages.\n",
    "- Fossil fuels: Factories burn coal and oil.\n",
    "\n",
    "Detailed examination:\n",
    "- Deforestation: We can plant more trees.\n",
    "- Garbages: We can recycle more and use less plastic.\n",
    "- Fossil fuels: We should use fuel-efficient vehicles and make power in other ways.\n",
    "''',\n",
    "    2: \"\"\"In conclusion, we need to use everything the proper way to save Earth.\"\"\"\n",
    "}\n",
    "topic = \"\"\"\n",
    "    Global warming has become a serious threat to our planet. As a journalist in a newspaper company, explain what we can do as citizens to reduce the effect of global warming. You may want to consider factors, such as \n",
    "    - recycling\n",
    "    - the impact of fossil fuels (oil, gas and coal)\n",
    "    - the impact of consumerism (buying things)\"\"\"\n",
    "\n",
    "for component,response in data.items(): \n",
    "    response = requests.post(url+\"/table_feedback\", data={\"component\":component, \"response\":response, \"topic\":topic})\n",
    "    display(Markdown(f\"### {component}\"))\n",
    "    display(Markdown(response.json()[\"feedback\"]))"
   ]
  },
  {
   "cell_type": "code",
   "execution_count": 68,
   "metadata": {},
   "outputs": [
    {
     "data": {
      "text/markdown": [
       "**Strengths:**\n",
       "\n",
       "- You have correctly identified the role, audience, and format for your RAFT.\n",
       "- You have chosen a topic that is relevant and important.\n",
       "\n",
       "**Areas for Improvement:**\n",
       "\n",
       "- Consider expanding your role as a \"newspaper journalist\" to include specific details, such as the name of the newspaper or your position within the company.\n",
       "- To make your audience more specific, consider identifying a particular demographic or group of people who would be most interested in reading your article.\n",
       "- Explore different formats beyond a simple \"article.\" Consider incorporating visuals, such as graphs or charts, to enhance the presentation of your information."
      ],
      "text/plain": [
       "<IPython.core.display.Markdown object>"
      ]
     },
     "metadata": {},
     "output_type": "display_data"
    }
   ],
   "source": [
    "raft_response = \"\"\"\n",
    "    Role: newpaper hournalist\n",
    "    Audience: general public\n",
    "    Format: article\n",
    "\"\"\"\n",
    "\n",
    "\n",
    "topic = \"\"\"\n",
    "    Global warming has become a serious threat to our planet. As a journalist in a newspaper company, explain what we can do as citizens to reduce the effect of global warming. You may want to consider factors, such as \n",
    "    - recycling\n",
    "    - the impact of fossil fuels (oil, gas and coal)\n",
    "    - the impact of consumerism (buying things)\"\"\"\n",
    "\n",
    "response = requests.post(url+\"/table_feedback_raft\", data={\"response\":raft_response, \"topic\":topic})\n",
    "display(Markdown(response.json()[\"feedback\"]))"
   ]
  },
  {
   "cell_type": "code",
   "execution_count": 64,
   "metadata": {},
   "outputs": [
    {
     "data": {
      "text/markdown": [
       "**Content**\n",
       "\n",
       "* **How extensive is the content?**\n",
       "    - The content is fairly extensive, covering the main points of the topic. The student discusses deforestation, garbage, and fossil fuels as causes of global warming and provides some suggestions for reducing their impact.\n",
       "* **How well does the content cover the topic?**\n",
       "    - The content covers the topic adequately, but it could be more in-depth. The student does not provide much detail about the specific effects of global warming or the specific actions that citizens can take to reduce its impact.\n",
       "* **How well are the ideas developed?**\n",
       "    - The ideas are developed fairly well, but they could be more organized and supported with evidence. The student provides some examples of how deforestation, garbage, and fossil fuels contribute to global warming, but they do not provide any data or research to support their claims.\n",
       "* **Is creativity and originality evident?**\n",
       "    - The writing is not particularly creative or original. The student does not provide any new or unique insights into the topic.\n",
       "* **Is the writing engaging and interesting?**\n",
       "    - The writing is not particularly engaging or interesting. The student uses simple language and does not provide any personal anecdotes or examples to make the topic more relatable.\n",
       "\n",
       "**Score: 3/5**\n",
       "\n",
       "**Language**\n",
       "\n",
       "* **Are accurate sentence structures used, including more complex ones?**\n",
       "    - The student uses accurate sentence structures, but they are mostly simple sentences. The student does not use any complex sentences or compound sentences.\n",
       "* **Is the vocabulary varied and appropriate?**\n",
       "    - The student uses a limited vocabulary. The student does not use any technical or specialized terms.\n",
       "* **Is grammar and punctuation used correctly?**\n",
       "    - The student makes some grammatical and punctuation errors. For example, the student writes \"garbages\" instead of \"garbage\" and \"energies\" instead of \"energy.\"\n",
       "* **Is the writing free of spelling errors?**\n",
       "    - The writing contains some spelling errors. For example, the student writes \"sun ray's\" instead of \"sun rays.\"\n",
       "* **Is the tone and style appropriate for the audience?**\n",
       "    - The tone and style of the writing is appropriate for the audience. The student uses simple language and avoids using jargon or technical terms.\n",
       "\n",
       "**Score: 2/5**\n",
       "\n",
       "**Organization**\n",
       "\n",
       "* **Is the text organized effectively, with logical development of ideas?**\n",
       "    - The text is organized effectively, with a clear introduction, body, and conclusion. The student uses transitions to connect ideas, but they could be more effective.\n",
       "* **Are paragraphs well-structured and coherent?**\n",
       "    - The paragraphs are well-structured and coherent. The student uses topic sentences to introduce each paragraph and provides supporting details.\n",
       "* **Are points supported with relevant details?**\n",
       "    - The points are supported with some relevant details, but they could be more specific and detailed. The student provides some examples of how deforestation, garbage, and fossil fuels contribute to global warming, but they do not provide any data or research to support their claims.\n",
       "* **Are transitions used effectively to connect ideas?**\n",
       "    - The student uses transitions to connect ideas, but they could be more effective. The student uses simple transitions, such as \"first,\" \"second,\" and \"last,\" but they could use more sophisticated transitions to show the relationships between ideas.\n",
       "\n",
       "**Score: 3/5**\n",
       "\n",
       "**Overall Score: 2.7/5**"
      ],
      "text/plain": [
       "<IPython.core.display.Markdown object>"
      ]
     },
     "metadata": {},
     "output_type": "display_data"
    }
   ],
   "source": [
    "data = {\n",
    "    \"grade\": 8,\n",
    "    \"essay\": \"\"\"\n",
    "Global warming is a serious threat to Earth, causing many harmful effect on the environment and the ozone layer (which protect Earth from harmful sun ray's).  \n",
    "The first reason for global warming is deforestation.  Many trees get cut.  \n",
    "They clean the air  This leads to global warming.  To reduce the effect of global warming people that cut trees should replant new trees instead to maintain balance. \n",
    "The second reason for global warming is garbages. Too much packages around things we buy and too many plastic bags cause global warming.  \n",
    "We must reduce the things we buys, recycle the garbage we make and not use so much things.  \n",
    "The last reason for global warming is fossil fuels.  Fossil fuels are burned for energies.  If we did not burn the fossil fuels we will not have the global warming.  \n",
    "Smoke from factories, industries and mainly nuclear plants cause global warming is not from one country but countries all over the world.  Smoke needs to stop and that means no more fossil fuels.  \n",
    "We need to make more fuel-efficient vehicles and find other ways to make power.  If we use everything the proper way, we can reduce global warming and the Earth will be saved.\"\"\",\n",
    "    \"writing_topic\": \"\"\"\n",
    "    Global warming has become a serious threat to our planet. As a journalist in a newspaper company, explain what we can do as citizens to reduce the effect of global warming. You may want to consider factors, such as \n",
    "    - recycling\n",
    "    - the impact of fossil fuels (oil, gas and coal)\n",
    "    - the impact of consumerism (buying things)\n",
    "\"\"\"\n",
    "}\n",
    "response = requests.post(url+\"/essay_feedback\", data=data)\n",
    "display(Markdown(response.json()['feedback']))"
   ]
  },
  {
   "cell_type": "code",
   "execution_count": 65,
   "metadata": {},
   "outputs": [
    {
     "data": {
      "text/plain": [
       "str"
      ]
     },
     "execution_count": 65,
     "metadata": {},
     "output_type": "execute_result"
    }
   ],
   "source": [
    "response = requests.post(url+\"/generate_image\", data=data)\n",
    "type(response.json()[\"image\"])"
   ]
  },
  {
   "cell_type": "code",
   "execution_count": 66,
   "metadata": {},
   "outputs": [
    {
     "data": {
      "text/plain": [
       "dict_keys(['finish_reason', 'image', 'seed'])"
      ]
     },
     "execution_count": 66,
     "metadata": {},
     "output_type": "execute_result"
    }
   ],
   "source": [
    "response.json().keys()"
   ]
  },
  {
   "cell_type": "code",
   "execution_count": null,
   "metadata": {},
   "outputs": [],
   "source": []
  }
 ],
 "metadata": {
  "kernelspec": {
   "display_name": ".venv",
   "language": "python",
   "name": "python3"
  },
  "language_info": {
   "codemirror_mode": {
    "name": "ipython",
    "version": 3
   },
   "file_extension": ".py",
   "mimetype": "text/x-python",
   "name": "python",
   "nbconvert_exporter": "python",
   "pygments_lexer": "ipython3",
   "version": "3.9.6"
  }
 },
 "nbformat": 4,
 "nbformat_minor": 2
}
